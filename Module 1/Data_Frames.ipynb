{
 "cells": [
  {
   "cell_type": "markdown",
   "metadata": {},
   "source": [
    "<img src=\"http://www.cs.wm.edu/~rml/images/wm_horizontal_single_line_full_color.png\">\n",
    "\n",
    "<h1 style=\"text-align:center;\">CSCI 140</h1>\n",
    "<h1 style=\"text-align:center;\">\n",
    "Introduction to Data Frames\n",
    "</h1>"
   ]
  },
  {
   "cell_type": "markdown",
   "metadata": {},
   "source": [
    "Previous: [pandas Series](pandas_Series) | Next: [Using Series and Data Frames](Series_and_Data_Frames.ipynb)"
   ]
  },
  {
   "cell_type": "markdown",
   "metadata": {},
   "source": [
    "We will use Pandas Data Frames extensively in this class to work with data sets. A Data Frame is a lot like an Excel spreadsheet: you can have column and row labels, and will store multiple variables together in one data set. The documentation for pandas Data Frames can be found here:https://pandas.pydata.org/pandas-docs/stable/generated/pandas.DataFrame.html"
   ]
  },
  {
   "cell_type": "markdown",
   "metadata": {},
   "source": [
    "We need to recreate our playlist series."
   ]
  },
  {
   "cell_type": "code",
   "execution_count": null,
   "metadata": {
    "collapsed": true
   },
   "outputs": [],
   "source": [
    "import pandas as pd"
   ]
  },
  {
   "cell_type": "code",
   "execution_count": null,
   "metadata": {
    "collapsed": true
   },
   "outputs": [],
   "source": [
    "\n",
    "play = open('playlist.txt','r')\n",
    "plist = []\n",
    "for line in play:\n",
    "    line = line.rstrip()\n",
    "    plist.append(line)\n",
    "playlist = pd.Series(plist)\n",
    "play.close()"
   ]
  },
  {
   "cell_type": "code",
   "execution_count": null,
   "metadata": {
    "collapsed": true
   },
   "outputs": [],
   "source": [
    "playlist = pd.Series(plist, name='Depressing Dance Party', index = ['Intro','Dance 1', 'Dance 2', 'Dance 3', 'Dance 4',\\\n",
    "                                                                    'Dance 5', 'Dance 6', 'Outro'])"
   ]
  },
  {
   "cell_type": "markdown",
   "metadata": {},
   "source": [
    "Our playlist above was a series: we had an index and a single column of data which was song titles. What if we want to keep multiple series together and have them indexable by a single index? Like song titles and the artist and the song length? We can use a data frame for this."
   ]
  },
  {
   "cell_type": "code",
   "execution_count": null,
   "metadata": {
    "collapsed": true
   },
   "outputs": [],
   "source": [
    "artists = ['Josh Ritter','AFI','Damien Rice','Katatonia','Pearl Jam','Pearl Jam','Bee Gees','69 Eyes']"
   ]
  },
  {
   "cell_type": "markdown",
   "metadata": {},
   "source": [
    "We will create a data frame from the playlist series we already had and add the artists list as a column to it."
   ]
  },
  {
   "cell_type": "code",
   "execution_count": null,
   "metadata": {
    "collapsed": true
   },
   "outputs": [],
   "source": [
    "play_frame = pd.DataFrame(playlist)\n",
    "play_frame"
   ]
  },
  {
   "cell_type": "markdown",
   "metadata": {},
   "source": [
    "Notice that we add the column the same way we add an entry in a dictionary:"
   ]
  },
  {
   "cell_type": "code",
   "execution_count": null,
   "metadata": {
    "collapsed": true
   },
   "outputs": [],
   "source": [
    "play_frame['Artist'] = artists"
   ]
  },
  {
   "cell_type": "code",
   "execution_count": null,
   "metadata": {
    "collapsed": true
   },
   "outputs": [],
   "source": [
    "play_frame"
   ]
  },
  {
   "cell_type": "markdown",
   "metadata": {},
   "source": [
    "We should rename the column corresponding to the original series since it represents the song title. There are several ways to do this, here is one:"
   ]
  },
  {
   "cell_type": "code",
   "execution_count": null,
   "metadata": {
    "collapsed": true
   },
   "outputs": [],
   "source": [
    "play_frame.columns = ['Song','Artist']"
   ]
  },
  {
   "cell_type": "markdown",
   "metadata": {},
   "source": [
    "Notice that `columns` is a public attribute that we able to modify directly."
   ]
  },
  {
   "cell_type": "code",
   "execution_count": null,
   "metadata": {
    "collapsed": true
   },
   "outputs": [],
   "source": [
    "play_frame"
   ]
  },
  {
   "cell_type": "markdown",
   "metadata": {},
   "source": [
    "To select a column, we use the name of the column as an index:"
   ]
  },
  {
   "cell_type": "code",
   "execution_count": null,
   "metadata": {
    "collapsed": true
   },
   "outputs": [],
   "source": [
    "print(play_frame['Artist'])"
   ]
  },
  {
   "cell_type": "markdown",
   "metadata": {},
   "source": [
    "To get the first 4 rows, we can take a slice like we do with lists:"
   ]
  },
  {
   "cell_type": "code",
   "execution_count": null,
   "metadata": {
    "collapsed": true
   },
   "outputs": [],
   "source": [
    "print(play_frame[0:4])\n"
   ]
  },
  {
   "cell_type": "markdown",
   "metadata": {},
   "source": [
    "We could combine these two to get the first 4 entries in the Artist column:"
   ]
  },
  {
   "cell_type": "code",
   "execution_count": null,
   "metadata": {
    "collapsed": true
   },
   "outputs": [],
   "source": [
    "print(play_frame['Artist'][0:4])"
   ]
  },
  {
   "cell_type": "code",
   "execution_count": null,
   "metadata": {
    "collapsed": true
   },
   "outputs": [],
   "source": [
    "print(play_frame[0:4]['Artist'])"
   ]
  },
  {
   "cell_type": "markdown",
   "metadata": {},
   "source": [
    "Notice that Python figures out automatically which index refers to the rows and which refers to the columns! We could avoid any confusion and access rows by indexing using the `.loc` and`.iloc` attributes - these are internal attributes of Data Frame objects that are acessible to us. They work the same as with series, with `loc` for label-based indexing and `iloc` for positional indexing: "
   ]
  },
  {
   "cell_type": "code",
   "execution_count": null,
   "metadata": {
    "collapsed": true
   },
   "outputs": [],
   "source": [
    "print(play_frame.loc['Dance 1'])"
   ]
  },
  {
   "cell_type": "code",
   "execution_count": null,
   "metadata": {
    "collapsed": true
   },
   "outputs": [],
   "source": [
    "print(play_frame.loc['Dance 2': 'Dance 5'])"
   ]
  },
  {
   "cell_type": "code",
   "execution_count": null,
   "metadata": {
    "collapsed": true
   },
   "outputs": [],
   "source": [
    "print(play_frame.iloc[0:4])"
   ]
  },
  {
   "cell_type": "markdown",
   "metadata": {},
   "source": [
    "This also works if we're looking for one specific cell in our data frame:"
   ]
  },
  {
   "cell_type": "code",
   "execution_count": null,
   "metadata": {
    "collapsed": true
   },
   "outputs": [],
   "source": [
    "print(play_frame.loc['Dance 2']['Artist'])"
   ]
  },
  {
   "cell_type": "markdown",
   "metadata": {},
   "source": [
    "Suppose we add another column to the data frame:"
   ]
  },
  {
   "cell_type": "code",
   "execution_count": null,
   "metadata": {
    "collapsed": true
   },
   "outputs": [],
   "source": [
    "play_frame['Rating'] = [8,9,10,10,10,5,7,8]"
   ]
  },
  {
   "cell_type": "code",
   "execution_count": null,
   "metadata": {
    "collapsed": true
   },
   "outputs": [],
   "source": [
    "play_frame"
   ]
  },
  {
   "cell_type": "markdown",
   "metadata": {},
   "source": [
    "What if we'd like to add a new row? We will use the `loc` attribute to specify the name of the new row (that is the index which is the description). Then we assign this to a list containing the values for each column. Note that our list must contain one value for each column in the data frame:"
   ]
  },
  {
   "cell_type": "code",
   "execution_count": null,
   "metadata": {
    "collapsed": true
   },
   "outputs": [],
   "source": [
    "play_frame.loc['Last Song'] = ['Failure', 'Breaking Benjamin', '9']"
   ]
  },
  {
   "cell_type": "markdown",
   "metadata": {},
   "source": [
    "By default, this will add this observation to the end of the data frame:"
   ]
  },
  {
   "cell_type": "code",
   "execution_count": null,
   "metadata": {
    "collapsed": true
   },
   "outputs": [],
   "source": [
    "print(play_frame)"
   ]
  },
  {
   "cell_type": "markdown",
   "metadata": {},
   "source": [
    "What if we'd like to delete a row? Or a column for that matter? We can use the `drop` method:"
   ]
  },
  {
   "cell_type": "code",
   "execution_count": null,
   "metadata": {
    "collapsed": true
   },
   "outputs": [],
   "source": [
    "play_frame.drop('Last Song')\n",
    "print(play_frame)"
   ]
  },
  {
   "cell_type": "markdown",
   "metadata": {},
   "source": [
    "Wait! That didn't delete my row! When you call `drop`, by default, it returns a **new** data frame with the row deleted. You need to either re-assign this to the original name, or add another argument which tells the interpreter to go ahead and edit the data frame."
   ]
  },
  {
   "cell_type": "code",
   "execution_count": null,
   "metadata": {
    "collapsed": true
   },
   "outputs": [],
   "source": [
    "new_frame = play_frame.drop('Last Song')\n",
    "new_frame"
   ]
  },
  {
   "cell_type": "markdown",
   "metadata": {},
   "source": [
    "In the example above, we assigned the data frame returned by drop to the name new_frame. Let's try some in place changes to new_frame:"
   ]
  },
  {
   "cell_type": "code",
   "execution_count": null,
   "metadata": {
    "collapsed": true
   },
   "outputs": [],
   "source": [
    "new_frame.drop('Outro', inplace=True)"
   ]
  },
  {
   "cell_type": "markdown",
   "metadata": {},
   "source": [
    "The additional argument `inplace=True` allows for the data frame `new_frame` to be edited. Take a look at `new_frame`:"
   ]
  },
  {
   "cell_type": "code",
   "execution_count": null,
   "metadata": {
    "collapsed": true
   },
   "outputs": [],
   "source": [
    "new_frame"
   ]
  },
  {
   "cell_type": "markdown",
   "metadata": {},
   "source": [
    "**If you find you are trying to edit a data frame, but you never see changes, make sure you are using inplace=True or reassigning the return value to a new data frame. Remember that if you use inplace = True, you change the original data frame....this may not be what you want!**"
   ]
  },
  {
   "cell_type": "markdown",
   "metadata": {},
   "source": [
    "How about deleting a column? By default, drop assumes you are talking about a row. To indicate that you are selecting a column to drop, you need to provide an additional argument `axis`. The default value of `axis` is 0 which indicates a row - use 1 to indicate a column:"
   ]
  },
  {
   "cell_type": "code",
   "execution_count": null,
   "metadata": {
    "collapsed": true
   },
   "outputs": [],
   "source": [
    "new_frame = play_frame.drop('Rating',axis=1)\n",
    "new_frame"
   ]
  },
  {
   "cell_type": "markdown",
   "metadata": {},
   "source": [
    "We can subset some of the columns from the data frame and create a new data frame. Note the use of the double brackets to specify which columns to include in the new data frame: "
   ]
  },
  {
   "cell_type": "code",
   "execution_count": null,
   "metadata": {
    "collapsed": true
   },
   "outputs": [],
   "source": [
    "song_frame = play_frame[['Song','Rating']]"
   ]
  },
  {
   "cell_type": "code",
   "execution_count": null,
   "metadata": {
    "collapsed": true
   },
   "outputs": [],
   "source": [
    "song_frame"
   ]
  },
  {
   "cell_type": "code",
   "execution_count": null,
   "metadata": {
    "collapsed": true
   },
   "outputs": [],
   "source": [
    "print(type(song_frame))"
   ]
  },
  {
   "cell_type": "markdown",
   "metadata": {
    "collapsed": true
   },
   "source": [
    "# Writing to and reading in from a .csv file"
   ]
  },
  {
   "cell_type": "markdown",
   "metadata": {},
   "source": [
    "Most commonly we will create data frames by reading in data from a file, not building them from a Series as we did above."
   ]
  },
  {
   "cell_type": "markdown",
   "metadata": {},
   "source": [
    "Let's write our current playlist to a file. There are many ways to do this depending on the format we want to write to. A comma separated values file has the values in each comma delimited (separated) by a comma. For example:\n",
    "\n",
    "`Intro,A Certain Light,Josh Ritter,9`\n",
    "\n",
    "To write to .csv, we will use the `to_csv` method:"
   ]
  },
  {
   "cell_type": "code",
   "execution_count": null,
   "metadata": {
    "collapsed": true
   },
   "outputs": [],
   "source": [
    "play_frame.to_csv('my_playlist.csv')"
   ]
  },
  {
   "cell_type": "markdown",
   "metadata": {},
   "source": [
    "Knowing the format of the file is **IMPORTANT**. It effects how we read it in, and whether we get the correct columns and other information in our data frame. For example, let's try to read in the .csv file. We do this with a pandas function `read_csv`. This takes as an argument a filename and returns a data frame. We need to assign the returned data frame to a variable to be able to use it:"
   ]
  },
  {
   "cell_type": "code",
   "execution_count": null,
   "metadata": {
    "collapsed": true
   },
   "outputs": [],
   "source": [
    "my_frame = pd.read_csv('my_playlist.csv')\n",
    "my_frame"
   ]
  },
  {
   "cell_type": "markdown",
   "metadata": {},
   "source": [
    "What happens if we have a file that is NOT comma separated? We can add in the optional argument sep to tell pandas how the columns are separated, e.g. by a tab, a space, etc. It looks like this:  \n",
    "\n",
    "pd.read_csv('some_tab_sep_file.txt', sep = '\\t')"
   ]
  },
  {
   "cell_type": "markdown",
   "metadata": {},
   "source": [
    "Notice that by default, it takes the first row as the header, that is, it assumes it contains the column names. It also assigns a numerical index, starting at 0 - this is what you see as the first column. What if this is not what we want?\n",
    "\n",
    "Let's work on re-assigning the index. We can do this two ways:\n",
    "\n",
    "1) After reading in the data"
   ]
  },
  {
   "cell_type": "code",
   "execution_count": null,
   "metadata": {
    "collapsed": true
   },
   "outputs": [],
   "source": [
    "my_frame = pd.read_csv('my_playlist.csv')\n",
    "my_frame.set_index('Unnamed: 0')\n",
    "my_frame"
   ]
  },
  {
   "cell_type": "markdown",
   "metadata": {},
   "source": [
    "It didn't change!!!! Oh wait, we have to re-assign or use `inplace=True`:"
   ]
  },
  {
   "cell_type": "code",
   "execution_count": null,
   "metadata": {
    "collapsed": true
   },
   "outputs": [],
   "source": [
    "my_frame.set_index('Unnamed: 0',inplace=True)\n",
    "my_frame"
   ]
  },
  {
   "cell_type": "markdown",
   "metadata": {},
   "source": [
    "That column name was assigned by default because it was blank in the .csv file. It's not terribly useful, let's change it!"
   ]
  },
  {
   "cell_type": "code",
   "execution_count": null,
   "metadata": {
    "collapsed": true
   },
   "outputs": [],
   "source": [
    "my_frame.index.name = 'Order'"
   ]
  },
  {
   "cell_type": "code",
   "execution_count": null,
   "metadata": {
    "collapsed": true
   },
   "outputs": [],
   "source": [
    "my_frame"
   ]
  },
  {
   "cell_type": "markdown",
   "metadata": {},
   "source": [
    "2) Let's set the index while reading the file in. This is another way to do it. We specify the position (using 0 based indexing) of the column that we want for the index:"
   ]
  },
  {
   "cell_type": "code",
   "execution_count": null,
   "metadata": {
    "collapsed": true
   },
   "outputs": [],
   "source": [
    "my_frame = pd.read_csv('my_playlist.csv', index_col=0)\n",
    "my_frame"
   ]
  },
  {
   "cell_type": "markdown",
   "metadata": {},
   "source": [
    "Notice that we didn't get the funky name for the Index column this time!"
   ]
  },
  {
   "cell_type": "markdown",
   "metadata": {},
   "source": [
    "What if we have a file **without** column names? Try reading in the file `test_playlist.csv`:"
   ]
  },
  {
   "cell_type": "code",
   "execution_count": null,
   "metadata": {
    "collapsed": true
   },
   "outputs": [],
   "source": [
    "playlist = pd.read_csv('test_playlist.csv')\n",
    "playlist"
   ]
  },
  {
   "cell_type": "markdown",
   "metadata": {},
   "source": [
    "Hmmm, that's some weirdness. It made the values from the first row into our column names. That's not what we want. Let's fix it:"
   ]
  },
  {
   "cell_type": "code",
   "execution_count": null,
   "metadata": {
    "collapsed": true
   },
   "outputs": [],
   "source": [
    "playlist = pd.read_csv('test_playlist.csv', index_col=0, header=None)\n",
    "playlist"
   ]
  },
  {
   "cell_type": "markdown",
   "metadata": {},
   "source": [
    "And do a bit more clean-up:"
   ]
  },
  {
   "cell_type": "code",
   "execution_count": null,
   "metadata": {
    "collapsed": true
   },
   "outputs": [],
   "source": [
    "playlist.columns = ['Song','Artist','Rating']\n",
    "playlist.index.name='Order'\n",
    "playlist"
   ]
  },
  {
   "cell_type": "code",
   "execution_count": null,
   "metadata": {
    "collapsed": true
   },
   "outputs": [],
   "source": []
  }
 ],
 "metadata": {
  "kernelspec": {
   "display_name": "Python 3",
   "language": "python",
   "name": "python3"
  },
  "language_info": {
   "codemirror_mode": {
    "name": "ipython",
    "version": 3
   },
   "file_extension": ".py",
   "mimetype": "text/x-python",
   "name": "python",
   "nbconvert_exporter": "python",
   "pygments_lexer": "ipython3",
   "version": "3.8.3"
  }
 },
 "nbformat": 4,
 "nbformat_minor": 2
}
