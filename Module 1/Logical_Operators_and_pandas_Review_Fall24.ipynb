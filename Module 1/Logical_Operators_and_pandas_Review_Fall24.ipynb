{
  "cells": [
    {
      "cell_type": "markdown",
      "source": [
        "## Logical Operators\n",
        "\n",
        "\n",
        "The three primary logical operations in Python are `and`, `or`, and `not`.\n",
        "\n",
        "### 1. `and` Operator\n",
        "- **Description**: The `and` operator returns `True` if both operands are true; otherwise, it returns `False`.\n",
        "- **Syntax**: `expression1 and expression2`\n",
        "- **Usage**:\n",
        "  - If `expression1` is `True` and `expression2` is `True`, then the result is `True`.\n",
        "  - If either `expression1` or `expression2` is `False`, the result is `False`.\n",
        "- **Example**:\n",
        "  ```python\n",
        "  x = 5\n",
        "  y = 10\n",
        "  result = (x > 0) and (y > 5)  # True, because both conditions are true.\n",
        "  ```\n",
        "\n",
        "### 2. `or` Operator\n",
        "- **Description**: The `or` operator returns `True` if at least one of the operands is true; it returns `False` only if both operands are false.\n",
        "- **Syntax**: `expression1 or expression2`\n",
        "- **Usage**:\n",
        "  - If either `expression1` or `expression2` is `True`, the result is `True`.\n",
        "  - If both `expression1` and `expression2` are `False`, the result is `False`.\n",
        "- **Example**:\n",
        "  ```python\n",
        "  x = 5\n",
        "  y = 10\n",
        "  result = (x > 0) or (y < 5)  # True, because the first condition is true.\n",
        "  ```\n",
        "\n",
        "### 3. `not` Operator\n",
        "- **Description**: The `not` operator negates the value of its operand. If the operand is `True`, `not` makes it `False`, and if the operand is `False`, `not` makes it `True`.\n",
        "- **Syntax**: `not expression`\n",
        "- **Usage**:\n",
        "  - The result is the opposite of the Boolean value of `expression`.\n",
        "- **Example**:\n",
        "  ```python\n",
        "  x = 5\n",
        "  result = not (x > 10)  # True, because x > 10 is False, and `not` makes it True.\n",
        "  ```\n",
        "\n",
        "### Combining Logical Operators\n",
        "Logical operators can be combined to create more complex conditions. The order of operations (precedence) can be controlled using parentheses.\n",
        "\n",
        "- **Example**:\n",
        "  ```python\n",
        "  x = 5\n",
        "  y = 10\n",
        "  z = 15\n",
        "  result = (x < y) and (y < z) or (z < x)  # True, because (x < y) and (y < z) is True, and the result is not affected by (z < x).\n",
        "  ```\n",
        "\n",
        "### Operator Precedence\n",
        "- `not` has the highest precedence, followed by `and`, and then `or`.\n",
        "- Parentheses can be used to change the order of evaluation.\n",
        "\n",
        "### Practical Use Case\n",
        "Logical operations are commonly used in conditional statements like `if`, `while`, and `for` loops to control the flow of a program based on multiple conditions.\n",
        "\n",
        "- **Example**:\n",
        "  ```python\n",
        "  x = 7\n",
        "  if (x > 5) and (x < 10):\n",
        "      print(\"x is between 5 and 10\")\n",
        "  ```\n",
        "\n",
        "In this example, the program checks if `x` is greater than 5 and less than 10, and if so, it prints the message.\n",
        "\n",
        "These logical operations are fundamental in programming for making decisions based on multiple conditions.\n",
        "\n",
        "### XOR (Exclusive OR) Operation\n",
        "- **Description**: The XOR operation returns `True` if one (and only one) of the operands is true, and `False` if both operands are the same (either both true or both false).\n",
        "- **Equivalent Expression**: `expression1 != expression2`\n",
        "  - XOR can be thought of as \"one or the other, but not both.\"\n",
        "\n",
        "### Implementing XOR in Python\n",
        "1. **Using Inequality Operator (`!=`)**:\n",
        "   - You can implement XOR using the inequality operator (`!=`) between two Boolean expressions.\n",
        "   - **Syntax**: `expression1 != expression2`\n",
        "   - **Example**:\n",
        "     ```python\n",
        "     x = True\n",
        "     y = False\n",
        "     result = x != y  # True, because x and y are not equal.\n",
        "     ```\n",
        "\n",
        "2. **Using Bitwise XOR Operator (`^`)**:\n",
        "   - Python provides a bitwise XOR operator (`^`), which can be used directly with Boolean values because `True` is treated as `1` and `False` as `0`.\n",
        "   - **Syntax**: `expression1 ^ expression2`\n",
        "   - **Example**:\n",
        "     ```python\n",
        "     x = True\n",
        "     y = False\n",
        "     result = x ^ y  # True, because True XOR False is True.\n",
        "     ```\n",
        "\n",
        "### Example of XOR in a Conditional Statement\n",
        "Here’s how you might use XOR in a practical scenario:\n",
        "\n",
        "```python\n",
        "x = 5\n",
        "y = 10\n",
        "\n",
        "# Check if exactly one of the conditions is true\n",
        "if (x > 0) ^ (y < 5):\n",
        "    print(\"One condition is true, but not both.\")\n",
        "else:\n",
        "    print(\"Either both are true or both are false.\")\n",
        "```\n",
        "\n",
        "### Summary of XOR in Python\n",
        "- **Logic**: XOR returns `True` if one and only one of the operands is `True`.\n",
        "- **Implementation**: You can implement XOR using either the inequality operator (`!=`) or the bitwise XOR operator (`^`).\n",
        "- **Example**: `(x > 0) ^ (y < 5)` will return `True` if one of the conditions is true, but not both.\n",
        "\n",
        "XOR is useful in scenarios where you need to ensure that exactly one of multiple conditions is met, which can be crucial in decision-making processes.\n"
      ],
      "metadata": {
        "id": "GW_NI4IhnDQO"
      }
    },
    {
      "cell_type": "markdown",
      "metadata": {
        "id": "GCLU6tAwm3yF"
      },
      "source": [
        "# Python but primarily pandas review"
      ]
    },
    {
      "cell_type": "markdown",
      "metadata": {
        "id": "xnU5fu0rm3yG"
      },
      "source": [
        "### The pandas library and DataFrames\n",
        "\n",
        "The first thing you'll usually do when writing Python code is to import any libraries that you'll need. When working with data files, the pandas library offers all sorts of convenient functionality."
      ]
    },
    {
      "cell_type": "code",
      "execution_count": null,
      "metadata": {
        "id": "dn8QS1RCm3yG"
      },
      "outputs": [],
      "source": [
        "import pandas as pd"
      ]
    },
    {
      "cell_type": "markdown",
      "metadata": {
        "id": "mil1ol59m3yG"
      },
      "source": [
        "We will use read_csv to import data from text files. This assumes that you have a folder called data and the file is placed in that folder. Do you?  \n",
        "\n",
        "What does read_csv do for you? What does csv mean?"
      ]
    },
    {
      "cell_type": "code",
      "execution_count": null,
      "metadata": {
        "id": "sllUB-b3m3yG"
      },
      "outputs": [],
      "source": [
        "# You can do this in one or in two steps.  First, specify where the file is located:\n",
        "#path_to_data = './data/gapminder.tsv'\n",
        "#if you are not using a data directory:\n",
        "path_to_data = 'gapminder.tsv'\n",
        "# Now import the file\n",
        "data = pd.read_csv(path_to_data)"
      ]
    },
    {
      "cell_type": "markdown",
      "metadata": {
        "id": "DmZnY4-im3yH"
      },
      "source": [
        "### What went wrong?\n",
        "\n",
        "Hint: the data uses another symbol for separating the values. Try the option: sep='\\t'"
      ]
    },
    {
      "cell_type": "code",
      "execution_count": null,
      "metadata": {
        "id": "cExpYSOYm3yH"
      },
      "outputs": [],
      "source": [
        "data"
      ]
    },
    {
      "cell_type": "markdown",
      "metadata": {
        "id": "6p3XZ2qPm3yH"
      },
      "source": [
        "ALWAYS, <b>ALWAYS</b> look at the data"
      ]
    },
    {
      "cell_type": "code",
      "execution_count": null,
      "metadata": {
        "id": "yD9cnNKpm3yH"
      },
      "outputs": [],
      "source": [
        "data.head()"
      ]
    },
    {
      "cell_type": "code",
      "execution_count": null,
      "metadata": {
        "id": "AFrRKHwDm3yH"
      },
      "outputs": [],
      "source": [
        "data.tail()"
      ]
    },
    {
      "cell_type": "code",
      "execution_count": null,
      "metadata": {
        "id": "tUaEyXgfm3yH"
      },
      "outputs": [],
      "source": [
        "data.shape"
      ]
    },
    {
      "cell_type": "code",
      "execution_count": null,
      "metadata": {
        "id": "xyuGJDHvm3yH"
      },
      "outputs": [],
      "source": [
        "data.size"
      ]
    },
    {
      "cell_type": "markdown",
      "metadata": {
        "id": "wsKG6T-5m3yH"
      },
      "source": [
        "Why do head and tail have parentheses but shape and size do not?"
      ]
    },
    {
      "cell_type": "markdown",
      "metadata": {
        "id": "VQb-U8s-m3yH"
      },
      "source": [
        "### Getting a sense of your data"
      ]
    },
    {
      "cell_type": "code",
      "execution_count": null,
      "metadata": {
        "id": "YxwnX8O0m3yH"
      },
      "outputs": [],
      "source": [
        "data.dtypes"
      ]
    },
    {
      "cell_type": "code",
      "execution_count": null,
      "metadata": {
        "id": "EQNwK_fZm3yH"
      },
      "outputs": [],
      "source": [
        "data.columns"
      ]
    },
    {
      "cell_type": "code",
      "execution_count": null,
      "metadata": {
        "id": "ie5A3ot5m3yH"
      },
      "outputs": [],
      "source": [
        "data.describe() #Notice anything????"
      ]
    },
    {
      "cell_type": "markdown",
      "metadata": {
        "id": "dQ5I2dRrm3yI"
      },
      "source": [
        "#### Column level data"
      ]
    },
    {
      "cell_type": "code",
      "execution_count": null,
      "metadata": {
        "id": "UdzOiZZFm3yI"
      },
      "outputs": [],
      "source": [
        "data['country']"
      ]
    },
    {
      "cell_type": "code",
      "execution_count": null,
      "metadata": {
        "id": "RbCKF85Dm3yI"
      },
      "outputs": [],
      "source": [
        "data['country'].unique()"
      ]
    },
    {
      "cell_type": "code",
      "execution_count": null,
      "metadata": {
        "id": "1_w5zu3zm3yI"
      },
      "outputs": [],
      "source": [
        "#how many are there?\n",
        "len(data['country'].unique())"
      ]
    },
    {
      "cell_type": "code",
      "execution_count": null,
      "metadata": {
        "id": "m3dv6PKam3yI"
      },
      "outputs": [],
      "source": [
        "data['continent'].value_counts()"
      ]
    },
    {
      "cell_type": "code",
      "execution_count": null,
      "metadata": {
        "id": "P8a1Uhv3m3yI"
      },
      "outputs": [],
      "source": [
        "#Find the maximum life expectancy"
      ]
    },
    {
      "cell_type": "code",
      "execution_count": null,
      "metadata": {
        "id": "OBDXyiD4m3yI"
      },
      "outputs": [],
      "source": [
        "#Find the minimum life expectancy"
      ]
    },
    {
      "cell_type": "code",
      "execution_count": null,
      "metadata": {
        "id": "4pXMoDTUm3yI"
      },
      "outputs": [],
      "source": [
        "#Find the mean life expectancy"
      ]
    },
    {
      "cell_type": "markdown",
      "metadata": {
        "id": "YHpEUvMUm3yI"
      },
      "source": [
        "### Subsetting a data frame"
      ]
    },
    {
      "cell_type": "markdown",
      "metadata": {
        "id": "qRlBAMpdm3yI"
      },
      "source": [
        "What do we mean by subsetting? Creating a new data frame that contains selected elements from the original data frame. This may be only certain columns, or only certain rows."
      ]
    },
    {
      "cell_type": "code",
      "execution_count": null,
      "metadata": {
        "id": "MOGbYM0hm3yI"
      },
      "outputs": [],
      "source": [
        "#Subset columns\n",
        "country_pop = data[['country', 'pop']]"
      ]
    },
    {
      "cell_type": "code",
      "execution_count": null,
      "metadata": {
        "id": "m-ivTpYbm3yI"
      },
      "outputs": [],
      "source": [
        "country_pop.head()"
      ]
    },
    {
      "cell_type": "code",
      "execution_count": null,
      "metadata": {
        "id": "QdHjUaQJm3yI"
      },
      "outputs": [],
      "source": [
        "#I would use this if I want all columns but a few\n",
        "not_continent = data.drop(columns = ['continent'])"
      ]
    },
    {
      "cell_type": "code",
      "execution_count": null,
      "metadata": {
        "id": "YzmSZ79Nm3yI"
      },
      "outputs": [],
      "source": [
        "#What if I want all of the data from 2002?\n",
        "\n"
      ]
    },
    {
      "cell_type": "code",
      "execution_count": null,
      "metadata": {
        "id": "EIk5IIqlm3yI"
      },
      "outputs": [],
      "source": [
        "data_2002.head(2)"
      ]
    },
    {
      "cell_type": "code",
      "execution_count": null,
      "metadata": {
        "id": "sje_R2X3m3yI"
      },
      "outputs": [],
      "source": [
        "#What if I want all of the data from the first year recorded?\n"
      ]
    },
    {
      "cell_type": "code",
      "execution_count": null,
      "metadata": {
        "id": "6K9QUp0gm3yI"
      },
      "outputs": [],
      "source": [
        "data_early.head()"
      ]
    },
    {
      "cell_type": "code",
      "execution_count": null,
      "metadata": {
        "id": "UX4TBJ_4m3yI"
      },
      "outputs": [],
      "source": [
        "data['continent'].unique()"
      ]
    },
    {
      "cell_type": "code",
      "execution_count": null,
      "metadata": {
        "id": "QYs1_Wydm3yI"
      },
      "outputs": [],
      "source": [
        "#What if we want all data from the Americas?"
      ]
    },
    {
      "cell_type": "code",
      "execution_count": null,
      "metadata": {
        "id": "VIFQfyVDm3yI"
      },
      "outputs": [],
      "source": [
        "data_Amer.head()"
      ]
    },
    {
      "cell_type": "code",
      "execution_count": null,
      "metadata": {
        "id": "sOHBBtx3m3yI"
      },
      "outputs": [],
      "source": [
        "data_Amer['continent'].value_counts()"
      ]
    },
    {
      "cell_type": "code",
      "execution_count": null,
      "metadata": {
        "id": "ys3fz6GYm3yJ"
      },
      "outputs": [],
      "source": [
        "#What if we want all of the data from the Americas in 2007?\n"
      ]
    },
    {
      "cell_type": "code",
      "execution_count": null,
      "metadata": {
        "id": "mq-nNe7Hm3yJ"
      },
      "outputs": [],
      "source": [
        "data_Amer_2007.head()"
      ]
    },
    {
      "cell_type": "markdown",
      "metadata": {
        "id": "rTotswpGm3yJ"
      },
      "source": [
        "### Boolean logic, and versus & and so forth"
      ]
    },
    {
      "cell_type": "code",
      "execution_count": null,
      "metadata": {
        "id": "-WrM-r1Em3yJ"
      },
      "outputs": [],
      "source": [
        "Amer_2007_idx = data[data['continent'] == 'Americas' and data['year'] == 2007]\n",
        "data_Amer_2007 = data[Amer_2007_idx]"
      ]
    },
    {
      "cell_type": "code",
      "execution_count": null,
      "metadata": {
        "id": "z0Lsa_qNm3yJ"
      },
      "outputs": [],
      "source": []
    },
    {
      "cell_type": "code",
      "execution_count": null,
      "metadata": {
        "id": "jPa1alLKm3yJ"
      },
      "outputs": [],
      "source": [
        "data_Amer_2007.head()"
      ]
    },
    {
      "cell_type": "markdown",
      "metadata": {
        "id": "MQc2L0PQm3yJ"
      },
      "source": [
        "### Finding things: .loc versus .iloc"
      ]
    },
    {
      "cell_type": "code",
      "execution_count": null,
      "metadata": {
        "id": "kP3spaSYm3yJ"
      },
      "outputs": [],
      "source": [
        "#What if we want to find the highest population in the Americas data 2007 dataframe?\n"
      ]
    },
    {
      "cell_type": "code",
      "execution_count": null,
      "metadata": {
        "id": "ZRB229rCm3yJ"
      },
      "outputs": [],
      "source": [
        "#OK but how do we get the rest of the info?\n"
      ]
    },
    {
      "cell_type": "code",
      "execution_count": null,
      "metadata": {
        "id": "T7zGNJhkm3yJ"
      },
      "outputs": [],
      "source": [
        "#A few ways\n"
      ]
    },
    {
      "cell_type": "code",
      "execution_count": null,
      "metadata": {
        "id": "HVVghnWcm3yJ"
      },
      "outputs": [],
      "source": []
    },
    {
      "cell_type": "code",
      "execution_count": null,
      "metadata": {
        "id": "_6Eig1YPm3yJ"
      },
      "outputs": [],
      "source": [
        "#Why doesn't this work????\n"
      ]
    },
    {
      "cell_type": "code",
      "execution_count": null,
      "metadata": {
        "id": "JwpHXCANm3yJ"
      },
      "outputs": [],
      "source": [
        "data_Amer_2007.head(7)"
      ]
    },
    {
      "cell_type": "code",
      "execution_count": null,
      "metadata": {
        "id": "QDcSmDv-m3yJ"
      },
      "outputs": [],
      "source": []
    },
    {
      "cell_type": "code",
      "execution_count": null,
      "metadata": {
        "id": "VrymQKHmm3yJ"
      },
      "outputs": [],
      "source": []
    },
    {
      "cell_type": "code",
      "execution_count": null,
      "metadata": {
        "id": "5QPHUz4gm3yJ"
      },
      "outputs": [],
      "source": [
        "data_Amer_2007.head()"
      ]
    },
    {
      "cell_type": "markdown",
      "metadata": {
        "id": "tnXHDLjNm3yJ"
      },
      "source": [
        "#### Using inplace = True properly"
      ]
    },
    {
      "cell_type": "code",
      "execution_count": null,
      "metadata": {
        "id": "5OmqDgTNm3yJ"
      },
      "outputs": [],
      "source": [
        "#Let's get all of the data for Canada, Mexico, and the US\n",
        "idx_select = data['country'].isin(['Canada','Mexico','United States'])\n",
        "data_select = data[idx_select]"
      ]
    },
    {
      "cell_type": "code",
      "execution_count": null,
      "metadata": {
        "id": "Gf6P5mbBm3yK"
      },
      "outputs": [],
      "source": [
        "data_select"
      ]
    },
    {
      "cell_type": "code",
      "execution_count": null,
      "metadata": {
        "id": "5bJwnrWLm3yK"
      },
      "outputs": [],
      "source": [
        "data_select.set_index('year', inplace = True)"
      ]
    },
    {
      "cell_type": "code",
      "execution_count": null,
      "metadata": {
        "id": "JtsnAUu6m3yK"
      },
      "outputs": [],
      "source": [
        "data_select.head()"
      ]
    },
    {
      "cell_type": "code",
      "execution_count": null,
      "metadata": {
        "id": "aZVNht1lm3yK"
      },
      "outputs": [],
      "source": [
        "idx_select = data['country'].isin(['Canada','Mexico','United States'])\n",
        "data_select = data[idx_select]"
      ]
    },
    {
      "cell_type": "code",
      "execution_count": null,
      "metadata": {
        "id": "TTRFyT5um3yK"
      },
      "outputs": [],
      "source": [
        "data_select.set_index('year')\n",
        "data_select.head()"
      ]
    },
    {
      "cell_type": "code",
      "execution_count": null,
      "metadata": {
        "id": "6PgbLBejm3yK"
      },
      "outputs": [],
      "source": [
        "data_select = data_select.set_index('year', inplace = True)"
      ]
    },
    {
      "cell_type": "markdown",
      "metadata": {
        "id": "9gyQGRoZm3yK"
      },
      "source": [
        "### Missing data and the quirks of nan"
      ]
    },
    {
      "cell_type": "code",
      "execution_count": null,
      "metadata": {
        "id": "Q0Oy8JvWm3yK"
      },
      "outputs": [],
      "source": [
        "path_to_data = './data/test_data_v2.csv'\n",
        "test_data = pd.read_csv(path_to_data)"
      ]
    },
    {
      "cell_type": "code",
      "execution_count": null,
      "metadata": {
        "id": "lL56QSDdm3yK"
      },
      "outputs": [],
      "source": [
        "test_data.head()"
      ]
    },
    {
      "cell_type": "markdown",
      "metadata": {
        "id": "ll339QD7m3yK"
      },
      "source": [
        "#### Missing data"
      ]
    },
    {
      "cell_type": "code",
      "execution_count": null,
      "metadata": {
        "id": "2O8jdqQdm3yK"
      },
      "outputs": [],
      "source": [
        "test_data.isnull().sum()"
      ]
    },
    {
      "cell_type": "code",
      "execution_count": null,
      "metadata": {
        "id": "TXcB_ypqm3yK"
      },
      "outputs": [],
      "source": [
        "import numpy as np\n",
        "print(np.nan)"
      ]
    },
    {
      "cell_type": "code",
      "execution_count": null,
      "metadata": {
        "id": "x4yZXr6Pm3yK"
      },
      "outputs": [],
      "source": [
        "#What if we want to find the observations where arrivals are missing?\n",
        "idx_miss = test_data['Arrivals'] == np.nan\n",
        "test_data[idx_miss]"
      ]
    },
    {
      "cell_type": "code",
      "execution_count": null,
      "metadata": {
        "id": "LqxfTkAtm3yK"
      },
      "outputs": [],
      "source": [
        "#Hmmmm\n",
        "#Let's try something"
      ]
    },
    {
      "cell_type": "code",
      "execution_count": null,
      "metadata": {
        "id": "_Mi5A_Hvm3yK"
      },
      "outputs": [],
      "source": []
    },
    {
      "cell_type": "code",
      "execution_count": null,
      "metadata": {
        "id": "rrHxI9zBm3yK"
      },
      "outputs": [],
      "source": [
        "#Get the rows where Arrival is null"
      ]
    },
    {
      "cell_type": "code",
      "execution_count": null,
      "metadata": {
        "id": "WJ0FP_rkm3yK"
      },
      "outputs": [],
      "source": [
        "#How would we get the rows where it is NOT null?\n"
      ]
    },
    {
      "cell_type": "code",
      "execution_count": null,
      "metadata": {
        "id": "HGu7dcx2m3yK"
      },
      "outputs": [],
      "source": []
    },
    {
      "cell_type": "code",
      "execution_count": null,
      "metadata": {
        "id": "CXc5pUT_m3yK"
      },
      "outputs": [],
      "source": []
    },
    {
      "cell_type": "markdown",
      "metadata": {
        "id": "2VEQ9_8-m3yK"
      },
      "source": []
    }
  ],
  "metadata": {
    "kernelspec": {
      "display_name": "Python 3 (ipykernel)",
      "language": "python",
      "name": "python3"
    },
    "language_info": {
      "codemirror_mode": {
        "name": "ipython",
        "version": 3
      },
      "file_extension": ".py",
      "mimetype": "text/x-python",
      "name": "python",
      "nbconvert_exporter": "python",
      "pygments_lexer": "ipython3",
      "version": "3.12.5"
    },
    "colab": {
      "provenance": []
    }
  },
  "nbformat": 4,
  "nbformat_minor": 0
}